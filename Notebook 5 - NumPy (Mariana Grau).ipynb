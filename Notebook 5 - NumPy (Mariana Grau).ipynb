{
 "cells": [
  {
   "cell_type": "markdown",
   "id": "37614bd5",
   "metadata": {},
   "source": [
    "### Notebook 5 - (Mariana Grau - Grupo 4)"
   ]
  },
  {
   "cell_type": "code",
   "execution_count": 5,
   "id": "271436fa",
   "metadata": {},
   "outputs": [],
   "source": [
    "import numpy as np"
   ]
  },
  {
   "cell_type": "code",
   "execution_count": 6,
   "id": "dd05632a",
   "metadata": {},
   "outputs": [
    {
     "name": "stdout",
     "output_type": "stream",
     "text": [
      "[0. 0. 0. 0. 0. 0. 0. 0. 0. 0. 0. 0.]\n"
     ]
    }
   ],
   "source": [
    "#1-Arreglo de ceros de longitud 12\n",
    "array_ceros = np.zeros(12)\n",
    "print(array_ceros)"
   ]
  },
  {
   "cell_type": "code",
   "execution_count": 7,
   "id": "6b5bffce",
   "metadata": {},
   "outputs": [
    {
     "name": "stdout",
     "output_type": "stream",
     "text": [
      "[ 0.  0.  0.  0. 10.  0.  0.  0.  0.  0.]\n"
     ]
    }
   ],
   "source": [
    "#2-Arreglo de longitud 10 con ceros en todas sus posiciones y un 10 en la posición número 5\n",
    "\n",
    "array_ceros2 = np.zeros(10)\n",
    "array_ceros2 [4]=10\n",
    "print(array_ceros2)"
   ]
  },
  {
   "cell_type": "code",
   "execution_count": 8,
   "id": "1c4dbe42",
   "metadata": {},
   "outputs": [
    {
     "name": "stdout",
     "output_type": "stream",
     "text": [
      "[10 11 12 13 14 15 16 17 18 19 20 21 22 23 24 25 26 27 28 29 30 31 32 33\n",
      " 34 35 36 37 38 39 40 41 42 43 44 45 46 47 48 49]\n"
     ]
    }
   ],
   "source": [
    "#3-Arreglo que tenga los números del 10 al 49\n",
    "array_con_intervalo = np.arange(10,50)\n",
    "print(array_con_intervalo)"
   ]
  },
  {
   "cell_type": "code",
   "execution_count": 9,
   "id": "97e55c56",
   "metadata": {},
   "outputs": [
    {
     "name": "stdout",
     "output_type": "stream",
     "text": [
      "[[0 1 2]\n",
      " [3 4 5]\n",
      " [6 7 8]]\n",
      "2\n"
     ]
    }
   ],
   "source": [
    "#4-Arreglo 2d de shape (3, 3) que tenga los números del 0 al 8\n",
    "array2d = np.array ([[0,1,2],[3,4,5],[6,7,8]])\n",
    "print(array2d)\n",
    "\n",
    "print(array2d.ndim)"
   ]
  },
  {
   "cell_type": "code",
   "execution_count": 10,
   "id": "722e1cca",
   "metadata": {},
   "outputs": [
    {
     "name": "stdout",
     "output_type": "stream",
     "text": [
      "[0.68 0.9  0.37 0.61 0.54 0.11 0.09 0.78 0.71 0.14 0.5  0.59 0.6  0.89\n",
      " 0.23 0.12 0.37 0.99 0.03 0.03 0.42 0.52 0.89 0.77 0.28 0.69 0.68 0.7\n",
      " 0.44 0.4  0.72 0.4  0.3  0.26 0.62 0.01 0.8  0.49 0.84 0.7  0.52 0.05\n",
      " 0.53 0.99 0.39 0.44 0.   0.2  0.05 0.48 0.23 0.71 0.56 0.82 0.28 0.56\n",
      " 0.11 0.07 0.05 0.84 0.19 0.96 0.18 0.4  1.   0.4  0.13 0.21 0.18 0.35\n",
      " 0.59 0.21 0.31 0.34 0.6  0.73 0.27 0.13 0.41 0.86 0.51 0.92 0.33 0.3\n",
      " 0.44 0.83 0.52 0.35 0.11 0.26 0.72 0.   0.38 0.45 0.57 0.67 0.24 0.75\n",
      " 0.99 0.32]\n",
      "La media es de: 0.46\n",
      "La varianza es de: 0.08\n"
     ]
    }
   ],
   "source": [
    "#5-Crear un arreglo de números aleatorios de longitud 100 y obtener su media y varianza\n",
    "\n",
    "array_aleatorio =np.random.rand(100).round(2)\n",
    "\n",
    "media= np.mean (array_aleatorio).round(2)\n",
    "varianza= np.var (array_aleatorio).round(2)\n",
    "\n",
    "print(array_aleatorio)\n",
    "print(\"La media es de:\", media)\n",
    "print(\"La varianza es de:\",varianza)"
   ]
  },
  {
   "cell_type": "code",
   "execution_count": 11,
   "id": "dce33966",
   "metadata": {},
   "outputs": [
    {
     "name": "stdout",
     "output_type": "stream",
     "text": [
      "La media del arreglo es de 42.0\n",
      "La media del arreglo es de 42.0\n"
     ]
    }
   ],
   "source": [
    "#6 Media de un arreglo usando np.sum\n",
    "\n",
    "array = np.array([25,30,57,56,])\n",
    "media = ((np.sum (array)) / 4 )\n",
    "\n",
    "#Otra forma de resolverlo\n",
    "\n",
    "media2 =np.sum(array)/len(array)\n",
    "\n",
    "\n",
    "print(\"La media del arreglo es de\",media)\n",
    "print(\"La media del arreglo es de\",media2)\n"
   ]
  },
  {
   "cell_type": "code",
   "execution_count": 14,
   "id": "44611064",
   "metadata": {},
   "outputs": [
    {
     "name": "stdout",
     "output_type": "stream",
     "text": [
      "La varianza es de 1.25\n",
      "La varianza es de 1.25\n",
      "La varianza es de 213.5\n",
      "La varianza es de 213.5\n"
     ]
    }
   ],
   "source": [
    "#7-Varianza de un arreglo usando np.sum y np.mean\n",
    "\n",
    "array2 = np.array ([2,4,5,3])\n",
    "media_array =np.mean(array2)\n",
    "suma_array =np.sum(array2)\n",
    "\n",
    "varianza = np.sum((array2 - media_array) ** 2) / len(array2)\n",
    "varianza2= np.var(array2)\n",
    "\n",
    "#Otra prueba con los datos de la consigna #6.\n",
    "\n",
    "varianza3 =np.sum((array - media)**2)/4\n",
    "varianza4 =np.var(array)\n",
    "\n",
    "\n",
    "print(\"La varianza es de\",varianza)\n",
    "print(\"La varianza es de\",varianza2)\n",
    "print(\"La varianza es de\",varianza3)\n",
    "print(\"La varianza es de\",varianza4)"
   ]
  },
  {
   "cell_type": "code",
   "execution_count": 15,
   "id": "b57bef99",
   "metadata": {},
   "outputs": [
    {
     "name": "stdout",
     "output_type": "stream",
     "text": [
      "[ 1.34  2.67  0.05 -1.72 -0.87  0.03 -0.47  0.19  0.18 -0.15  0.46 -0.63\n",
      "  1.16 -1.45  0.01 -0.89 -1.39  2.    0.26 -0.69 -0.4  -1.18 -1.59]\n"
     ]
    }
   ],
   "source": [
    "#8-Array de números aleatorios usando np.random.randn.\n",
    "\n",
    "array_numeros_aleatorios = np.random.randn (23).round(2)\n",
    "print(array_numeros_aleatorios)\n"
   ]
  }
 ],
 "metadata": {
  "kernelspec": {
   "display_name": "Python 3 (ipykernel)",
   "language": "python",
   "name": "python3"
  },
  "language_info": {
   "codemirror_mode": {
    "name": "ipython",
    "version": 3
   },
   "file_extension": ".py",
   "mimetype": "text/x-python",
   "name": "python",
   "nbconvert_exporter": "python",
   "pygments_lexer": "ipython3",
   "version": "3.10.9"
  }
 },
 "nbformat": 4,
 "nbformat_minor": 5
}
